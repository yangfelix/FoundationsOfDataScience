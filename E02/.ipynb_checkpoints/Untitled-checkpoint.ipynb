{
 "cells": [
  {
   "cell_type": "code",
   "execution_count": 70,
   "metadata": {},
   "outputs": [],
   "source": [
    "import numpy as np\n",
    "import random\n",
    "import pandas as pd\n",
    "import matplotlib.pyplot as plt\n",
    "\n",
    "def gradient_descent(x, y, w0, w1, step=0.00001, max_iter=1000, stop_thr=1e-6):    \n",
    "    previous_w0 = None\n",
    "    previous_w1 = None\n",
    "    \n",
    "    for iteration in range(max_iter):\n",
    "        # Partial derivatives:\n",
    "        dw0 = 0\n",
    "        dw1 = 0\n",
    "        for i in range(len(x)):\n",
    "            dw0 += w0 + (w1 * x[i]) - y[i]\n",
    "            dw1 += (w0 + w1*x[i] - y[i]) * x[i]\n",
    "        dw0 /= len(x)\n",
    "        dw1 /= len(x)\n",
    "        \n",
    "        # Step\n",
    "        w0 = w0 - (step * dw0)\n",
    "        w1 = w1 - (step * dw1)\n",
    "        \n",
    "        if previous_w0 and (abs(previous_w0 - w0) <= stop_thr and abs(previous_w1 - w1) <= stop_thr):\n",
    "            return w0, w1\n",
    "        previous_w0 = w0\n",
    "        previous_w1 = w1\n",
    "    print(\"Max Iter reached\")\n",
    "    return w0, w1"
   ]
  },
  {
   "cell_type": "code",
   "execution_count": 74,
   "metadata": {},
   "outputs": [
    {
     "name": "stdout",
     "output_type": "stream",
     "text": [
      "Max Iter reached\n",
      "0.06497757026679808 0.08291994864741528 0.05119374763863371 0.8482782691927143\n"
     ]
    },
    {
     "data": {
      "text/plain": [
       "[<matplotlib.lines.Line2D at 0x19d38b64ca0>]"
      ]
     },
     "execution_count": 74,
     "metadata": {},
     "output_type": "execute_result"
    },
    {
     "data": {
      "image/png": "[encoded data removed]",
      "text/plain": [
       "<Figure size 432x288 with 1 Axes>"
      ]
     },
     "metadata": {
      "needs_background": "light"
     },
     "output_type": "display_data"
    }
   ],
   "source": [
    "df1 = pd.read_csv('tvads.csv', delimiter=';')\n",
    "x = df1[\"TV\"]\n",
    "y = df1[\"sales\"]\n",
    "init_w0 = np.random.rand()\n",
    "init_w1 = np.random.rand()\n",
    "\n",
    "w0, w1 = gradient_descent(x, y, init_w0, init_w1)\n",
    "\n",
    "y_init = init_w0 + (init_w1 * x)\n",
    "y_pred = w0 + (w1 * x)\n",
    "print(w0, w1, init_w0, init_w1)\n",
    "plt.scatter(x, y)\n",
    "plt.plot(x, y_pred, color='red', label='Regression Line')\n",
    "plt.plot(x, y_init, color='green', label='Initial Regression Line')"
   ]
  }
 ],
 "metadata": {
  "kernelspec": {
   "display_name": "Python 3",
   "language": "python",
   "name": "python3"
  },
  "language_info": {
   "codemirror_mode": {
    "name": "ipython",
    "version": 3
   },
   "file_extension": ".py",
   "mimetype": "text/x-python",
   "name": "python",
   "nbconvert_exporter": "python",
   "pygments_lexer": "ipython3",
   "version": "3.8.5"
  }
 },
 "nbformat": 4,
 "nbformat_minor": 4
}
